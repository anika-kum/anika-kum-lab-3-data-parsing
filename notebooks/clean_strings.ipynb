{
 "cells": [
  {
   "cell_type": "markdown",
   "metadata": {},
   "source": [
    "Task A: Load data/messy strings.csv into df raw.\n",
    "Hint: pd.read_csv()"
   ]
  },
  {
   "cell_type": "code",
   "execution_count": 1,
   "metadata": {},
   "outputs": [
    {
     "name": "stdout",
     "output_type": "stream",
     "text": [
      "             raw\n",
      "0           BOB(\n",
      "1        dana~  \n",
      "2          {EVE/\n",
      "3      \"ALICE   \n",
      "4            BOB\n",
      "5           DANA\n",
      "6        CHARLIE\n",
      "7       alice   \n",
      "8          FRANK\n",
      "9            bob\n",
      "10           eve\n",
      "11        \\dana'\n",
      "12           EVE\n",
      "13      CHARLIE \n",
      "14          -eve\n",
      "15        bob   \n",
      "16           EVE\n",
      "17     .FRANK   \n",
      "18          eve \n",
      "19           EVE\n",
      "20          BOB&\n",
      "21      charlie\"\n",
      "22    ,charlie  \n",
      "23         EVE  \n",
      "24         ]dana\n",
      "25     charlie  \n",
      "26        alice+\n",
      "27         EVE{ \n",
      "28          DANA\n",
      "29       frank  \n",
      "30      CHARLIE!\n",
      "31      |ALICE# \n",
      "32           BOB\n",
      "33        frank^\n",
      "34         alice\n",
      "35          'bob\n",
      "36       CHARLIE\n",
      "37         eve+ \n",
      "38      CHARLIE \n",
      "39       charlie\n",
      "40         dana#\n",
      "41       DANA   \n",
      "42          dana\n",
      "43       CHARLIE\n",
      "44    =charlie! \n",
      "45        bob   \n",
      "46           bob\n",
      "47       ;EVE   \n",
      "48    =charlie  \n",
      "49          dana\n"
     ]
    }
   ],
   "source": [
    "import pandas as pd\n",
    "df = pd.read_csv('/Users/anikakumar/BU RISE/Day 3/Lab/anika-kum-lab-3-data-parsing/data/messy_strings.csv')\n",
    "print(df)"
   ]
  },
  {
   "cell_type": "markdown",
   "metadata": {},
   "source": [
    "Task B: Write clean strings(strings) that:\n",
    "- Strips spaces\n",
    "- Lower-cases\n",
    "- Removes punctuation (!?,.;:)\n",
    "- Drops empty entries"
   ]
  },
  {
   "cell_type": "code",
   "execution_count": 55,
   "metadata": {},
   "outputs": [],
   "source": [
    "import string\n",
    "def clean_strings(strings):\n",
    "    strings = strings.dropna() # remove missing/null value cells\n",
    "    strings = strings.astype(str) # cast to string type\n",
    "    strings = strings.str.strip() # clip leading and trailing whitespace\n",
    "    strings = strings.str.lower() # convert everything to lowercase\n",
    "    returnstring = []\n",
    "    for s in strings:\n",
    "        s = s.translate(str.maketrans(\"\",\"\",string.punctuation))\n",
    "        returnstring.append(s)\n",
    "    return returnstring"
   ]
  },
  {
   "cell_type": "markdown",
   "metadata": {},
   "source": [
    "Task C: Apply it: df[’clean’] = clean strings(df[’raw’])"
   ]
  },
  {
   "cell_type": "code",
   "execution_count": 56,
   "metadata": {},
   "outputs": [],
   "source": [
    "df['clean'] = clean_strings(df['raw'])"
   ]
  },
  {
   "cell_type": "markdown",
   "metadata": {},
   "source": [
    "Task D: Compute on df[’clean’]:\n",
    "- Total rows\n",
    "- Unique count\n",
    "- Most common string (value counts())"
   ]
  },
  {
   "cell_type": "code",
   "execution_count": 100,
   "metadata": {},
   "outputs": [
    {
     "name": "stdout",
     "output_type": "stream",
     "text": [
      "Total rows: 50\n",
      "Unique count: 6\n",
      "In the data, the commonly occuring name was: charlie\n"
     ]
    }
   ],
   "source": [
    "print(f\"Total rows: {len(df['clean'])}\")\n",
    "print(f\"Unique count: {df['clean'].nunique()}\")\n",
    "value_counts = df['clean'].value_counts(sort=True)\n",
    "print(f\"In the data, the commonly occuring name was: {value_counts.index[0]}\") #sorted earlier"
   ]
  },
  {
   "cell_type": "markdown",
   "metadata": {},
   "source": [
    "Task E: Save cleaned data:"
   ]
  },
  {
   "cell_type": "code",
   "execution_count": 101,
   "metadata": {},
   "outputs": [],
   "source": [
    "df['clean'].to_csv('/Users/anikakumar/BU RISE/Day 3/Lab/anika-kum-lab-3-data-parsing/data/messy_strings_clean.csv', index=False)"
   ]
  },
  {
   "cell_type": "markdown",
   "metadata": {},
   "source": [
    "Task F (Bonus): Plot top-5 strings:"
   ]
  },
  {
   "cell_type": "code",
   "execution_count": 104,
   "metadata": {},
   "outputs": [
    {
     "data": {
      "text/plain": [
       "<Axes: xlabel='name', ylabel='frequency'>"
      ]
     },
     "execution_count": 104,
     "metadata": {},
     "output_type": "execute_result"
    },
    {
     "data": {
      "image/png": "[encoded data removed]",
      "text/plain": [
       "<Figure size 640x480 with 1 Axes>"
      ]
     },
     "metadata": {},
     "output_type": "display_data"
    }
   ],
   "source": [
    "df['clean'].value_counts().head(5).plot.bar(xlabel='name', ylabel='frequency', rot=0)"
   ]
  }
 ],
 "metadata": {
  "kernelspec": {
   "display_name": "lab_3",
   "language": "python",
   "name": "python3"
  },
  "language_info": {
   "codemirror_mode": {
    "name": "ipython",
    "version": 3
   },
   "file_extension": ".py",
   "mimetype": "text/x-python",
   "name": "python",
   "nbconvert_exporter": "python",
   "pygments_lexer": "ipython3",
   "version": "3.13.5"
  }
 },
 "nbformat": 4,
 "nbformat_minor": 2
}
